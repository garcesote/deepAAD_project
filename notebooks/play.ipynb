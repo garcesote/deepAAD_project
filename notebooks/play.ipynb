{
 "cells": [
  {
   "cell_type": "code",
   "execution_count": 2,
   "metadata": {},
   "outputs": [],
   "source": [
    "import numpy as np"
   ]
  },
  {
   "cell_type": "code",
   "execution_count": 3,
   "metadata": {},
   "outputs": [
    {
     "data": {
      "text/plain": [
       "52.5"
      ]
     },
     "execution_count": 3,
     "metadata": {},
     "output_type": "execute_result"
    }
   ],
   "source": [
    "array = [55, 60, 50, 45]\n",
    "np.mean(array)"
   ]
  },
  {
   "cell_type": "code",
   "execution_count": 1,
   "metadata": {},
   "outputs": [],
   "source": [
    "import sys\n",
    "import os\n",
    "\n",
    "# Include parent dir\n",
    "SCRIPT_DIR = os.path.dirname(os.path.abspath('play.ipynb'))\n",
    "sys.path.append(os.path.dirname(SCRIPT_DIR))"
   ]
  },
  {
   "cell_type": "code",
   "execution_count": 2,
   "metadata": {},
   "outputs": [],
   "source": [
    "from models.eeg_conformer import Conformer, ConformerConfig"
   ]
  },
  {
   "cell_type": "code",
   "execution_count": 3,
   "metadata": {},
   "outputs": [
    {
     "name": "stdout",
     "output_type": "stream",
     "text": [
      "Number of parameters: 0.41M\n"
     ]
    }
   ],
   "source": [
    "mdl = Conformer(ConformerConfig)"
   ]
  },
  {
   "cell_type": "code",
   "execution_count": 6,
   "metadata": {},
   "outputs": [
    {
     "data": {
      "text/plain": [
       "Conformer(\n",
       "  (embed): PatchEmbedding(\n",
       "    (shallownet): ModuleList(\n",
       "      (0): Conv2d(1, 40, kernel_size=(1, 8), stride=(1, 1))\n",
       "      (1): Conv2d(40, 40, kernel_size=(64, 1), stride=(1, 1))\n",
       "      (2): BatchNorm2d(40, eps=1e-05, momentum=0.1, affine=True, track_running_stats=True)\n",
       "      (3): ELU(alpha=1.0)\n",
       "      (4): AvgPool2d(kernel_size=(1, 20), stride=(1, 4), padding=0)\n",
       "      (5): Dropout(p=0.4, inplace=False)\n",
       "    )\n",
       "    (projection): Conv2d(40, 40, kernel_size=(1, 1), stride=(1, 1))\n",
       "  )\n",
       "  (encoder): TransformerEncoder(\n",
       "    (0): EncoderBlock(\n",
       "      (ln_1): LayerNorm()\n",
       "      (attn): TemporalSelfAttention(\n",
       "        (w_q): Linear(in_features=40, out_features=40, bias=True)\n",
       "        (w_k): Linear(in_features=40, out_features=40, bias=True)\n",
       "        (w_v): Linear(in_features=40, out_features=40, bias=True)\n",
       "        (c_proj): Linear(in_features=40, out_features=40, bias=True)\n",
       "        (attn_dropout): Dropout(p=0.4, inplace=False)\n",
       "        (resid_dropout): Dropout(p=0.4, inplace=False)\n",
       "      )\n",
       "      (ln_2): LayerNorm()\n",
       "      (mlp): MLP(\n",
       "        (c_fc): Linear(in_features=40, out_features=80, bias=True)\n",
       "        (gelu): GELU(approximate='none')\n",
       "        (c_proj): Linear(in_features=80, out_features=40, bias=True)\n",
       "        (dropout): Dropout(p=0.4, inplace=False)\n",
       "      )\n",
       "    )\n",
       "    (1): EncoderBlock(\n",
       "      (ln_1): LayerNorm()\n",
       "      (attn): TemporalSelfAttention(\n",
       "        (w_q): Linear(in_features=40, out_features=40, bias=True)\n",
       "        (w_k): Linear(in_features=40, out_features=40, bias=True)\n",
       "        (w_v): Linear(in_features=40, out_features=40, bias=True)\n",
       "        (c_proj): Linear(in_features=40, out_features=40, bias=True)\n",
       "        (attn_dropout): Dropout(p=0.4, inplace=False)\n",
       "        (resid_dropout): Dropout(p=0.4, inplace=False)\n",
       "      )\n",
       "      (ln_2): LayerNorm()\n",
       "      (mlp): MLP(\n",
       "        (c_fc): Linear(in_features=40, out_features=80, bias=True)\n",
       "        (gelu): GELU(approximate='none')\n",
       "        (c_proj): Linear(in_features=80, out_features=40, bias=True)\n",
       "        (dropout): Dropout(p=0.4, inplace=False)\n",
       "      )\n",
       "    )\n",
       "  )\n",
       "  (classif): ClassificationHead(\n",
       "    (fc): Sequential(\n",
       "      (0): Linear(in_features=1040, out_features=256, bias=True)\n",
       "      (1): ELU(alpha=1.0)\n",
       "      (2): Dropout(p=0.4, inplace=False)\n",
       "      (3): Linear(in_features=256, out_features=32, bias=True)\n",
       "      (4): ELU(alpha=1.0)\n",
       "      (5): Dropout(p=0.4, inplace=False)\n",
       "      (6): Linear(in_features=32, out_features=1, bias=True)\n",
       "    )\n",
       "  )\n",
       ")"
      ]
     },
     "execution_count": 6,
     "metadata": {},
     "output_type": "execute_result"
    }
   ],
   "source": [
    "mdl.apply(mdl.init_weights)"
   ]
  }
 ],
 "metadata": {
  "kernelspec": {
   "display_name": "SSS_Enviroment",
   "language": "python",
   "name": "python3"
  },
  "language_info": {
   "codemirror_mode": {
    "name": "ipython",
    "version": 3
   },
   "file_extension": ".py",
   "mimetype": "text/x-python",
   "name": "python",
   "nbconvert_exporter": "python",
   "pygments_lexer": "ipython3",
   "version": "3.10.11"
  }
 },
 "nbformat": 4,
 "nbformat_minor": 2
}
